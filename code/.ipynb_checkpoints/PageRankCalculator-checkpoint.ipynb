{
 "cells": [
  {
   "cell_type": "code",
   "execution_count": 19,
   "metadata": {
    "collapsed": true
   },
   "outputs": [],
   "source": [
    "from __future__ import division\n",
    "import numpy as np\n",
    "import scipy.sparse as sp\n",
    "import pandas as pd"
   ]
  },
  {
   "cell_type": "code",
   "execution_count": 20,
   "metadata": {
    "collapsed": false
   },
   "outputs": [],
   "source": [
    "web_graph = pd.read_csv('../input/web-Google.txt', sep='\\t', comment='#', header=None)"
   ]
  },
  {
   "cell_type": "code",
   "execution_count": 21,
   "metadata": {
    "collapsed": true
   },
   "outputs": [],
   "source": [
    "orig_id_to_matrix_id = {}\n",
    "matrix_id_to_orig_id = []\n",
    "for num in web_graph[0].values:\n",
    "    if num not in orig_id_to_matrix_id:\n",
    "        matrix_id_to_orig_id.append(num)\n",
    "        orig_id_to_matrix_id[num] = len(matrix_id_to_orig_id) - 1\n",
    "for num in web_graph[1].values:\n",
    "    if num not in orig_id_to_matrix_id:\n",
    "        matrix_id_to_orig_id.append(num)\n",
    "        orig_id_to_matrix_id[num] = len(matrix_id_to_orig_id) - 1"
   ]
  },
  {
   "cell_type": "code",
   "execution_count": 22,
   "metadata": {
    "collapsed": false
   },
   "outputs": [],
   "source": [
    "num_pages = len(matrix_id_to_orig_id)"
   ]
  },
  {
   "cell_type": "code",
   "execution_count": 23,
   "metadata": {
    "collapsed": false
   },
   "outputs": [],
   "source": [
    "web_graph['probs'] = 1.0 / web_graph.groupby([0])[1].transform('count')"
   ]
  },
  {
   "cell_type": "code",
   "execution_count": 24,
   "metadata": {
    "collapsed": false
   },
   "outputs": [],
   "source": [
    "M = sp.coo_matrix((web_graph.probs.values, \n",
    "                   ([orig_id_to_matrix_id[id] for id in web_graph[1].values], \n",
    "                    [orig_id_to_matrix_id[id] for id in web_graph[0].values])), \n",
    "                  shape=(num_pages, num_pages))"
   ]
  },
  {
   "cell_type": "code",
   "execution_count": 25,
   "metadata": {
    "collapsed": false
   },
   "outputs": [],
   "source": [
    "v = np.ones((num_pages, 1)) / num_pages\n",
    "v_prev = None\n",
    "for i in xrange(300):\n",
    "    v = .8 * M.dot(v)\n",
    "    v = v + (1 - np.sum(v)) / len(v)\n",
    "    if v_prev is not None:\n",
    "        sum_abs_diff = np.sum(np.abs(v_prev - v))\n",
    "        if sum_abs_diff < 1e-10:\n",
    "            break\n",
    "    v_prev = v\n",
    "page_ranks = {}\n",
    "for i in xrange(len(v)):\n",
    "    page_ranks[matrix_id_to_orig_id[i]] =  v[i]"
   ]
  },
  {
   "cell_type": "code",
   "execution_count": null,
   "metadata": {
    "collapsed": true
   },
   "outputs": [],
   "source": []
  }
 ],
 "metadata": {
  "kernelspec": {
   "display_name": "Python 2",
   "language": "python",
   "name": "python2"
  },
  "language_info": {
   "codemirror_mode": {
    "name": "ipython",
    "version": 2
   },
   "file_extension": ".py",
   "mimetype": "text/x-python",
   "name": "python",
   "nbconvert_exporter": "python",
   "pygments_lexer": "ipython2",
   "version": "2.7.10"
  }
 },
 "nbformat": 4,
 "nbformat_minor": 0
}
